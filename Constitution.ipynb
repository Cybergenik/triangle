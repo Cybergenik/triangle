{
 "cells": [
  {
   "cell_type": "markdown",
   "metadata": {},
   "source": [
    "# [Triangle Redbook Constitution Sample (v1)](https://github.com/Spelkington/triangle/blob/master/Constitution.ipynb)"
   ]
  },
  {
   "cell_type": "markdown",
   "metadata": {},
   "source": [
    "## Preamble: Purpose\n",
    "\n",
    "[TODO: Cultural Preamble]"
   ]
  },
  {
   "cell_type": "markdown",
   "metadata": {},
   "source": [
    "## Article: Membership\n",
    "\n",
    "The Utah Chapter shall establish two categories of membership, **Brother** and **Alumni Brother**.\n",
    "\n",
    "The Brothers and Alumni Brothers of our Chapter shall make commitments to the cause of our Chapter, to the observation of the precepts of the Fraternity as set forth in the Ritual, and to the preservation and promotion of the chosen ideals of the Fraternity.\n",
    "\n",
    "Our Chapter shall establish a formal bid process for recruitment of **new members** who show distinguished characters, values alike those chosen ideals of the Fraternity, and who are willing to accept their full share in maintaining a Chapter in which enduring frienships may be formed.\n",
    "\n",
    "Our Utah Chapter shall, in the course of our work in our campus and community, seek out individuals that exemplify the chosen ideals of the Fraternity and extend to them the honorary status of "
   ]
  },
  {
   "cell_type": "markdown",
   "metadata": {},
   "source": [
    "### Section: Brother\n",
    "\n",
    "The Brothers of Triangle represent the core of our Chapter and Fraternity. Brothers bear the responsibility of furthering Triangle's cause in our campus and community, to exemplify integrity within and beyond their fields, and to maintain our Chapter and the friendships within.\n",
    "\n",
    "Any man who has completed the Ritual and remains in good standing with our Chapter and the National Fraternity shall be a **Brother** of the Utah Chapter of Triangle."
   ]
  },
  {
   "cell_type": "markdown",
   "metadata": {},
   "source": [
    "#### Subsection: Academic Integrity\n",
    "\n",
    "Each Brother of our Chapter shall maintain a creditable scholastic record and exemplify academic integrity in his field of study.\n",
    "\n",
    "Brothers with a cumulative or term GPA at **4.0** shall be recognized and by the Chapter for outstanding achievement and have his honorable performance recorded in our Chapter history.\n",
    "\n",
    "Brothers with a cumulative GPA or term GPA above **3.5** shall be recognized by the Chapter for their commendable academic performance.\n",
    "\n",
    "Any Brother whose cumulative or term GPAs fall below a **3.0*** shall, in the following term, adhere to Utah Triangle's [Academic Improvement Plan](#), as executed by the Chapter's Academic Counsel.\n",
    "\n",
    "Every Brother shall commit to maintaining a **2.95** minimum cumulative and term GPA.\n",
    "\n",
    "The [Academic Counsel](#) shall make and submit a [proposal to have Triangle membership revoked](#) for any Brother whose term GPA fall below **2.95** for two consecutive semesters to the Chapter's [Judicial Counsel](#). "
   ]
  },
  {
   "cell_type": "markdown",
   "metadata": {},
   "source": [
    "#### Subsection: Service Above Self\n",
    "\n",
    "Each Triangle Brother shall work to assist and improve the campus, communities, and world in which they reside.\n",
    "\n",
    "Every Triangle Brother shall commit themselves to serve our campus and community for at least **ten** hours per term, or **twenty** hours per year. \n",
    "\n",
    "Every Triangle Brother shall also commit to contributing to **three** Greek philanthropies and **one** Fraternity and Sorority Life (FSL) event per term.\n",
    "\n",
    "As students of the University of Utah campus, every Triangle Brother will commit to being an active member of at least **one** other campus organization.\n",
    "\n",
    "Every Triangle Brother shall commit to attend any philanthropic events held by the Chapter."
   ]
  },
  {
   "cell_type": "markdown",
   "metadata": {},
   "source": [
    "#### Subsection: Building the Bonds of Brotherhood\n",
    "\n",
    "Every Triangle Brother shall commit to creating, in our Chapter, an environment in which enduring friendships may be formed, and to maintain this environment for future generations of Triangle Brothers.\n",
    "\n",
    "Each Triangle Brother shall commit to being an active participant in furthering Triangle's cause, and shall fulfill their [obligations as voting constitutents of the Chapter.](#).\n",
    "\n",
    "Each Triangle Brother shall commit to being an active and regular participant in Chapter events and undertakings. While absolute attendance shall not be expected by the Chapter, Brothers shall commit to informing the Vice President when planning an absence from a Chapter event."
   ]
  },
  {
   "cell_type": "markdown",
   "metadata": {},
   "source": [
    "#### Subsection: Paying Personal Bills Promptly\n",
    "\n",
    "Each term as a Triangle Brother, each Brother will commit to paying a \\$500 due. This due will be applied to the operation and insurance of the local Chapter, and the maintenance of the National Fraternity.\n",
    "\n",
    "Every Triangle Brother shall have a right to open access to the current budget of the local Chapter.\n",
    "\n",
    "Every Triangle Brother shall have the opportunity to pay their term due in installments according to a [Utah Triangle Promissory Note](#) signed by the Brother and the Chapter Treasurer.\n",
    "\n",
    "Any Triangle Brother that does not pay term dues in full or submit a Utah Triangle Promissory Note will be subject to a [Fine](#) of **$40**. If term dues remain unpaid one week after the term due date, Triangle membership will be revoked."
   ]
  },
  {
   "cell_type": "markdown",
   "metadata": {},
   "source": [
    "### Section: Alumni Brother\n",
    "\n",
    "The Alumni Brothers of Triangle are those who have committed themselves to Brothers for the duration of their undergraduate career and continue to further the purpose and values of Triangle in the broader world.\n",
    "\n",
    "Alumni Brothers of Triangle shall commit themselves to lending assistance and guidance to their original Chapter, and the National Fraternity."
   ]
  },
  {
   "cell_type": "markdown",
   "metadata": {},
   "source": [
    "#### Subsection: Qualifications for Promotion to Alumnus\n",
    "\n",
    "Each Triangle Brother shall become an Alumni Brother upon the completion of their undergraduate degree. Brothers may also become an Alumni Brother upon completion of **seven** semesters as a Triangle Brother."
   ]
  },
  {
   "cell_type": "markdown",
   "metadata": {},
   "source": [
    "[TODO: Alumni Appeal Process]\n",
    "\n",
    "[TODO: Alumni Chapter]"
   ]
  },
  {
   "cell_type": "markdown",
   "metadata": {},
   "source": [
    "### Section: New Member\n",
    "\n",
    "Men studying in the field of science, architecture, and engineering may bid for membership in our Chapter.\n",
    "\n",
    "Our Chapter shall work to extend these bids to men who show distinguished characters, values alike those chosen ideals of the Fraternity, and who are willing to accept their full share in maintaining a Chapter in which enduring frienships may be formed."
   ]
  },
  {
   "cell_type": "markdown",
   "metadata": {},
   "source": [
    "#### Subsection: Approved Majors\n",
    "\n",
    "Any man seeking to bid for membership and initiation as a Triangle Brother in Utah Triangle must be studying a field of:\n",
    "\n",
    "* Architecture;\n",
    "* Astronomy;\n",
    "* Bioengineering;\n",
    "* Biomedical Engineering;\n",
    "* Biology;\n",
    "* Chemical Engineering;\n",
    "* Chemistry;\n",
    "* City & Metropolitan Planning;\n",
    "* Civil & Environmental Engineering;\n",
    "* Computer Engineering;\n",
    "* Computer Science;\n",
    "* Electrical Engineering;\n",
    "* Geological Engineering;\n",
    "* Material Science & Engineering;\n",
    "* Mathematics;\n",
    "* Mechanical Engineering;\n",
    "* Metallurgical Engineering;\n",
    "* Mining Engineering; and\n",
    "* Physics;\n",
    "\n",
    "Additionally, exceptions have been made for men pursuing Bachelors of Science in:\n",
    "\n",
    "* Entertainment Arts & Engineering; and\n",
    "* Games\n",
    "\n",
    "Men interested in a bid for membership and initiation as a Triangle Brother may petition the Utah Chapter and National Fraternity for an extension of this list."
   ]
  },
  {
   "cell_type": "markdown",
   "metadata": {},
   "source": [
    "#### Subsection: Bids for Membership\n",
    "\n",
    "Men interested in a bid for membership must attend at least **one** event deemed as a recruitment event by the Chapter. Each bid for membership must be approved by a [bid vote](#).\n",
    "\n",
    "Members who receive and accept a bid for membership shall take the [Triangle Pledge Oath](#) and granted the status of **New Member**."
   ]
  },
  {
   "cell_type": "markdown",
   "metadata": {},
   "source": [
    "#### Subsection: New Member Term\n",
    "\n",
    "New Members of the Chapter shall commit to a **New Member Term**. In their New Member Term, New Members shall be given a chance to show a dedication to growth of character and commitment to the chosen ideals of Triangle.\n",
    "\n",
    "Each New Member shall make the same commitments made by Brothers, with the exception of commitments required of the legislature. In leau of the commitments required of the legislature, new members will be required to attend **80\\%** of all weekly meetings.\n",
    "\n",
    "Each New Member shall commit to be an active participant in Triangle's New Member Education. New Member Education will consist in a series of events designed to teach New Members about the chosen ideals of Triangle and important life skills. New Members shall commit to attending at least **eight** New Member Education sessions.\n",
    "\n",
    "Each New Member shall also commit to a study of the history and chosen ideals of Triangle and the Chapter. As part of this commitment, each New Member shall:\n",
    "\n",
    "* Write a one-page synopsis about the [Triangle Fraternity and its Utah Chapter](#);\n",
    "* Recall, by memory, the [constituents of the University of Utah's Greek Row](#);\n",
    "* Recall, by memory, the [Greek alphabet](#).\n",
    "* Recall, by memory, the [Triangle colors and flowers](#);\n",
    "* Recall, by memory, the [founding Brothers of Triangle](#);\n",
    "* Recall, by memory, the [Triangle Code of Ethics](#); and,\n",
    "* Read, study, and analyze [*Everyman: A Morality Play*](#);\n",
    "\n",
    "#### In Which Enduring Friendships May Be Formed\n",
    "\n",
    "Under no circumstance shall the Chapter, or any Brother in the Chapter, take advantage of New Members. The Chapter and every Brother shall strive to create a welcoming environment for New Members. Neither the Chapter, nor any Brother, shall ever seek to haze or create an unwelcome environment for any New Member. This commitment extends **to and beyond** [National Fraternity](#) and [Fraternity and Sorority Life](#) guidelines.\n",
    "\n",
    "**Any Brother who violates this solemn commitment shall have their Triangle membership revoked and be reported to the National Fraternity, University of Utah, Fraternity and Sorority Life, and any relevant legal authorities.**"
   ]
  },
  {
   "cell_type": "markdown",
   "metadata": {},
   "source": [
    "#### Subsection: Initiation\n",
    "\n",
    "New Members shall have an opportunity to bid for initiation at the end of their New Member Term.\n",
    "\n",
    "To receive a bid for Initiation from the Chapter, a New Member must undergo and pass an [Initiation vote](#) by the Chapter's legislative quorum.\n",
    "\n",
    "To accept a bid for Initiation, a New Member must demonstrate knowledge of the history and chosen ideals of the fraternity. Additionally, New Members accepting a bid for Initiation shall commit to paying a **\\$250** Initiation Due to the National Fraternity to support the perpetual maintenance of National records.\n",
    "\n",
    "Upon his Initiation, each New Member will become a [**Triangle Brother**](#) and receive the full rights and commitments of a Triangle Brother. They will be recorded as Brothers by the National Fraternity and made eligible for attendance at [National Events](#) and financial aid and scholarships by the [Triangle Education Foundation](#). Additionally, he will become eligible for the status of [**Alumni Brother**](#) upon completion of his undergraduate degree or **seven** semesters as a Triangle Brother."
   ]
  },
  {
   "cell_type": "markdown",
   "metadata": {},
   "source": [
    "### Section: Distinguished Fellow\n"
   ]
  },
  {
   "cell_type": "markdown",
   "metadata": {},
   "source": [
    "## Article: Organization\n",
    "\n",
    "[TODO: Preamble. Establish Records, Legislative, Executive, Judicial]"
   ]
  },
  {
   "cell_type": "markdown",
   "metadata": {},
   "source": [
    "### Section: Legislative\n",
    "\n",
    "[TODO: Preamble, Purpose]\n",
    "\n",
    "[TODO: Meeting Structure & Attendance]\n",
    "\n",
    "[TODO: Legislative Process]"
   ]
  },
  {
   "cell_type": "markdown",
   "metadata": {},
   "source": [
    "### Section: Executive\n",
    "\n",
    "[TODO: Preamble, Executive Purpose]\n",
    "\n",
    "[TODO: Executive Transition]"
   ]
  },
  {
   "cell_type": "markdown",
   "metadata": {},
   "source": [
    "#### President\n",
    "\n",
    "The President of our Chapter shall lead the Brothers of our Chapter in executing our Chapter's cause and pursuance of long-term visions and resolutions for the Chapter.\n",
    "\n",
    "Our President shall lead our Chapter in its commitments and activities alongside the other members of the Executive Board.\n",
    "\n",
    "Our President shall provide direction and assistance to each Executive Officer in the execution of their respective responsibilities and projects.\n",
    "\n",
    "Our President shall, alongside our Chapter Vice President and Fraternal Officer, work to align the vision and cause of our Chapter with the precepts of the Fraternity as set forth in the Ritual.\n",
    "\n",
    "Our President shall be the primary point of contact between the Utah Chapter and Utah Alumni Chapter, and work to maintain the connection between Brothers and Alumni Brothers.\n",
    "\n",
    "Our President, along with the Chapter Secretary, shall be a point of contact between our Chapter and our National Fraternity.\n",
    "\n",
    "Our President shall be the primary point of contact between our Chapter and the University of Utah Fraternity & Sorority Life.\n",
    "\n",
    "Our President shall lead the [Academic Counsel](#) of our Chapter, committed to the maintenance of the Chapter's creditable scholastic record."
   ]
  },
  {
   "cell_type": "markdown",
   "metadata": {},
   "source": [
    "#### Vice President\n",
    "\n",
    "The Vice President of our Chapter shall assist the President in the execution of our Chapter's cause and pursuance of long-term visions and resolutions for the Chapter.\n",
    "\n",
    "Our Vice President shall, alongside our Chapter President and Fraternal Officer, work to align the vision and cause of our Chapter with the precepts of the Fraternity as set forth in the Ritual.\n",
    "\n",
    "Our Vice President shall be the primary advocate, monitor, and executor of the commitments made by each Triangle Brother, and primary leader of his Brothers in accepting full shares of any task, however menial, involved in maintaining our Chapter.\n",
    "\n",
    "Our Vice President shall be the primary monitor of risk within the chapter and its' activities. This will include proper and thorough education of all members regarding risk, behavior, and maintenance of integrity among the characters of all Brothers.\n",
    "\n",
    "Our Vice President shall be a member in the [Academic Counsel](#) of our Chapter, committed to the maintenance of the Chapter's creditable scholastic record."
   ]
  },
  {
   "cell_type": "markdown",
   "metadata": {},
   "source": [
    "#### Chapter Secretrary\n",
    "\n",
    "The Chapter Secretary shall be the primary custodian of all records, both local and National, for the Utah Chapter.\n",
    "\n",
    "Our Chapter Secretary shall lead the maintenance of our Chapter's infrastructure, and the advocate for the creation of new chapter infrastructure.\n",
    "\n",
    "Our Chapter Secretary shall, along with the President of our Chapter, be a point of contact between our Chapter and our National Fraternity.\n",
    "\n",
    "Our Chapter Secretary shall be the primary custodian of our Chapter's Redbook and all contents within.\n",
    "\n",
    "Our Chapter Secretary shall be the primary custodian of all documentation of our Chapter's legislature and primary assistant to the legislative process.\n",
    "\n",
    "Our Chapter Secretary shall be the primary custodian of our Chapter's offical communication channels."
   ]
  },
  {
   "cell_type": "markdown",
   "metadata": {},
   "source": [
    "#### Chapter Treasurer\n",
    "\n",
    "The Chapter Treasurer shall be the primary custodian of the finances of our Chapter.\n",
    "\n",
    "Our Chapter Treasurer shall assist all members of the Executive Board in managing their allocation from our Chapter Budget.\n",
    "\n",
    "Our Chapter Treasurer shall preserve and maintain all financial records for our Chapter and ensure open availability of financial records to all Brothers.\n",
    "\n",
    "Our Chapter Treasurer shall function as the payer of all bills due by our Chapter.\n",
    "\n",
    "Our Chapter Treasurer shall ensure the responsible use of all our Chapter funds, and keep all spending within the means of our Chapter.\n",
    "\n",
    "Our Chapter Treasurer shall be the primary advocate in seeking to minimize the financial impact of Chapter membership on our Brothers."
   ]
  },
  {
   "cell_type": "markdown",
   "metadata": {},
   "source": [
    "#### Fraternal Officer\n",
    "\n",
    "The Chapter Fraternal Officer shall be the primary custodian of our Chapter's internal culture, and shall ensure that our Chapter culture continues to align with our Chapter's purpose and chosen ideals of our Fraternity.\n",
    "\n",
    "Our Fraternal Officer shall, alongside our Chapter President and Vice President, work to align the vision and cause of our Chapter with the precepts of the Fraternity as set forth in the Ritual.\n",
    "\n",
    "Our Fraternal Officer shall oversee the adherence to current and introduction of new Fraternity traditions.\n",
    "\n",
    "Our Fraternal Officer shall lead our Chapter in the creation of a Chapter environment in which enduring friendships may be formed.\n",
    "\n",
    "Our Chapter External Officer shall lead the planning and execution of Chapter Brotherhood events.\n",
    "\n",
    "Our Fraternal Officer shall work with our Chapter and Executive Board to innovate on current and new ideas for Chapter programming and events."
   ]
  },
  {
   "cell_type": "markdown",
   "metadata": {},
   "source": [
    "#### External Officer\n",
    "\n",
    "The Chapter External Officer shall lead our Chapter in fulfilling its role in the Greek, campus, and local communities.\n",
    "\n",
    "Our External Officer shall be the primary point of contact between, and custodion of positive relations with, external organizations and our Chapter.\n",
    "\n",
    "Our External Officer shall lead the planning and execution of events attended by our Chapter and external organizations or parties.\n",
    "\n",
    "Our External Officer shall work with our Chapter and Executive Board to innovate on current and new ideas for Chapter programming and events."
   ]
  },
  {
   "cell_type": "markdown",
   "metadata": {},
   "source": [
    "#### Recruitment Officer\n",
    "\n",
    "The Chapter Recruitment Officer shall lead our Chapter the recruitment of qualified men of strong character and integrity into our chapter.\n",
    "\n",
    "Our Recruitment Officer shall create and refine a core recruitment message that captures the essence of our Chapter's chosen ideals, and attracts men who fit and exemplify those ideals.\n",
    "\n",
    "Our Recruitment Officer shall lead our Chapter in our involvement in Fraternity and Sorority Life recruitment events and planned programming.\n",
    "\n",
    "Our Recruitment Officer shall lead the planning and execution of events attended by our Chapter and potential new members."
   ]
  },
  {
   "cell_type": "markdown",
   "metadata": {},
   "source": [
    "#### Member Educator\n",
    "\n",
    "The Chapter Member Educator shall lead in the creation, refinement, and execution of programming and curriculum designed to cultivate strong character and foster integrity and growth in each Brother.\n",
    "\n",
    "Our Member Educator shall lead all New Members through their [New Member Term](#) with the assistance of a New Member Educator.\n",
    "\n",
    "Our Member Educator shall assist Brothers in their mission to promote the welfare of their professions through professional development opportunities and workshops.\n",
    "\n",
    "Our Member Educator shall, in coordination with the President, create and innovate engaging and constructive meeting Purposes."
   ]
  },
  {
   "cell_type": "markdown",
   "metadata": {},
   "source": [
    "### Section: Judicial Board\n",
    "\n",
    "The Judicial Board shall function as an impartial party within our Chapter to resolve internal and organizational matters."
   ]
  },
  {
   "cell_type": "markdown",
   "metadata": {},
   "source": [
    "#### Interpersonal Matters\n",
    "\n",
    "[TODO: This]"
   ]
  },
  {
   "cell_type": "markdown",
   "metadata": {},
   "source": [
    "#### Disciplinary Action\n",
    "\n",
    "[TODO: This]"
   ]
  },
  {
   "cell_type": "markdown",
   "metadata": {},
   "source": [
    "#### Fines\n",
    "\n",
    "Fines may be assigned to a Brother who has met the criteria for a Fine enumerated in the Constitution.\n",
    "\n",
    "Any Brother assigned a Fine shall be notified of the assignment by the Vice President of the Chapter within the 24-hour window that the Vice President becomes aware of the Brother’s finable offense. If the brother is not notified on the same calendar day that the Vice President becomes aware of the offense, the Fine shall become null and the assigned brother no longer responsible for payment.\n",
    "\n",
    "The Vice President of our Chapter shall be the only party that may assign a Fine. The Vice President can only assign a Fine listed in the Constitution if and only if the Brother meets the criteria for that Fine, or according to the procedure for an ad hoc fine.\n",
    "\n",
    "In the case that a Brother commits an action such that a fine is just but not enumerated in the Constitution and the Vice President of our Chapter is made aware of such an action, he may present an appeal for an *ad-hoc* Fine to the Judicial Board.\n",
    "\n",
    "An appeal for an *ad-hoc* Fine must include:\n",
    "\n",
    "* The action committed;\n",
    "* A justification for why the action ought to result in a fine; and\n",
    "* A proposed amount for the Fine under \\$50.\n",
    "\n",
    "The Judicial Board shall convene to discuss an appeal for an *ad-hoc* Fine. If the Judicial Board decides unanimously that the Fine is just, the Judicial Board will assign to and notify the Brother of the *ad-hoc* Fine within 24 hours of the decision.\n",
    "\n",
    "No Fine will be considered permissible if the President or Vice President is a standing member of the Judicial Board. If a member of the Judicial Board is subject to a Fine, the remaining Judicial Board members will elect a temporary substitute.\n",
    "\n",
    "Any Brother assigned a Fine may appeal to the Judicial Board for dismissal or reduction of any Fine. The Judicial Board may dismiss, reduce, or provide an alternative non-monetary penalty for a Fine if an adequate appeal is provided by the fined Brother.\n",
    "\n",
    "A Brother with an outstanding and undismissed Fine may not attend Chapter Formal.\n",
    "\n",
    "The assignment and status of a Fine is to remain a confidential matter between the Vice President, the Judicial Board, and the fined Brother.\n",
    "\n",
    "The amount of any collected Fine will be managed by the Treasurer of our Chapter, who can decide to earmark and assign the amount for:\n",
    "\n",
    "* academic funding;\n",
    "* philanthropic funding; or \n",
    "* the savings of the Chapter.\n",
    "\n",
    "All Fines established in the Constitution and assignable by the Vice President are to be enumerated and given strict criteria below:\n",
    "\n",
    "* *N/A.*"
   ]
  },
  {
   "cell_type": "markdown",
   "metadata": {},
   "source": [
    "#### Appeals for Special Status\n",
    "\n",
    "Every Triangle Brother may experience circumstances under which they cannot fulfill all their commitments as a Brother. In those circumstances, that Brother may be granted a one-term **special status**.\n",
    "\n",
    "Any Triangle Brother seeking a one-term special status shall appeal to the Judicial Board with the case for their special status. The Judicial Board shall hear the case, and may waive or modify any commitment made by that Brother.\n",
    "\n",
    "Any Triangle Brother whose appeal for a special status involves a reduction of dues must present their appeal to the Judicial Board at least **two weeks prior** to that term's due due. The Judicial Board shall hear the case and may modify the commitment of dues by that Brother, for that term. The Judicial Board shall not reduce any Brother's dues beneath the sum cost of the Triangle National Active Member Free or Triangle Insurance Fee.\n",
    "\n",
    "The Judicial Board shall submit a report for each member granted a special status to the Vice President of the Chapter and the Chapter Treasurer. This report shall outline all waives and modifications to the commitments of the Brother granted a special status."
   ]
  },
  {
   "cell_type": "markdown",
   "metadata": {},
   "source": [
    "#### Proposals for Revokation of Triangle Membership\n",
    "\n",
    "A proposal for revokation of Triangle membership shall be made in instances where a Brother's membership is deemed to be against the cause, values, or integrity of our Chapter or the values of integrity of that Brother.\n",
    "\n",
    "A proposal for revokation of membership may be submitted to any member of the Judicial Board by any Brother.\n",
    "\n",
    "The Judicial Board shall convene to discuss all proposals for revokation of membership in a timely member. The Judicial Board shall commit to due diligence in scheduling a convention time at which the Brother under proposal is able to attend.\n",
    "\n",
    "Any Brother under proposal of membership revokation may submit an appeal to the Judicial Board, either verbal or written, to have the proposal declined, and have the right to attend the Judicial Board convention on the proposal. \n",
    "\n",
    "A proposal for revokation of membership shall be approved only under the circumstances that:\n",
    "\n",
    "* There is a **unanimous** vote by the Judicial Board; or\n",
    "* The decision is passed to our Chapter's legislature by a **2/3** majority of the Judicial Board, and passed by a **strong majority** of our Chapter's legislature excluding the Brother under proposal.\n",
    "\n",
    "If a proposal for revokation of membership is passed, the Brother's membership in our Chapter and the National Fraternity will be revoked and membership records removed."
   ]
  },
  {
   "cell_type": "markdown",
   "metadata": {},
   "source": [
    "[TODO: The rest of this.]"
   ]
  },
  {
   "cell_type": "markdown",
   "metadata": {},
   "source": [
    "### Academic Counsel\n",
    "\n",
    "[TODO: Academic Counsel]"
   ]
  }
 ],
 "metadata": {
  "kernelspec": {
   "display_name": "Python 3",
   "language": "python",
   "name": "python3"
  },
  "language_info": {
   "codemirror_mode": {
    "name": "ipython",
    "version": 3
   },
   "file_extension": ".py",
   "mimetype": "text/x-python",
   "name": "python",
   "nbconvert_exporter": "python",
   "pygments_lexer": "ipython3",
   "version": "3.7.6"
  }
 },
 "nbformat": 4,
 "nbformat_minor": 4
}
