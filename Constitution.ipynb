{
 "cells": [
  {
   "cell_type": "markdown",
   "metadata": {},
   "source": [
    "# Triangle Constitution Sample"
   ]
  },
  {
   "cell_type": "markdown",
   "metadata": {},
   "source": [
    "## Preamble: Purpose\n",
    "\n",
    "[TODO: Cultural Preamble]"
   ]
  },
  {
   "cell_type": "markdown",
   "metadata": {},
   "source": [
    "## Article: Membership\n",
    "\n",
    "The Utah Chapter establishes two categories of membership: **active** and **alumni**. We also establish a formal bid process for recruitment of **new members**.\n",
    "\n",
    "### Section: Active Brothers\n",
    "\n",
    "Active brothers represent the core of Triangle. \n",
    "\n",
    "[TODO: Commitments]\n",
    "\n",
    "[TODO: Mention voting rights]\n",
    "\n",
    "### Section: Alumni Brother\n",
    "\n",
    "[TODO: Alumni qualifications]\n",
    "\n",
    "[TODO: Alumni chapter]\n",
    "\n",
    "### Section: New Member\n",
    "\n",
    "[TODO: Accepted majors]\n",
    "\n",
    "[TODO: Bid Process]\n",
    "\n",
    "[TODO: Initiation Requirements]"
   ]
  },
  {
   "cell_type": "markdown",
   "metadata": {},
   "source": [
    "## Article: Organization\n",
    "\n",
    "[TODO: Preamble. Establish Records, Legislative, Executive, Judicial]\n",
    "\n",
    "### Section: Chapter Meetings\n",
    "\n",
    "[TODO: Preamble, Purpose]\n",
    "\n",
    "[TODO: Meeting Structure & Attendance]\n",
    "\n",
    "[TODO: Legislative Process]\n",
    "\n",
    "### Section: Executive Responsibilities\n",
    "\n",
    "[TODO: Preamble, Executive Purpose]\n",
    "\n",
    "[TODO: Executive Transition]\n",
    "\n",
    "#### President\n",
    "\n",
    "[TODO: This]\n",
    "\n",
    "#### Vice President\n",
    "\n",
    "[TODO: This]\n",
    "\n",
    "#### Secretrary & Treasurer\n",
    "\n",
    "[TODO: This]\n",
    "\n",
    "#### Brotherhood Officer\n",
    "\n",
    "[TODO: This]\n",
    "\n",
    "#### External Officer\n",
    "\n",
    "[TODO: This]\n",
    "\n",
    "#### Recruitment Officer\n",
    "\n",
    "[TODO: This]\n",
    "\n",
    "#### Member Educator\n",
    "\n",
    "[TODO: This]\n",
    "\n",
    "### Section: Judicial\n",
    "\n",
    "[TODO: Preamble, Judicial Purpose]"
   ]
  },
  {
   "cell_type": "markdown",
   "metadata": {},
   "source": []
  },
  {
   "cell_type": "markdown",
   "metadata": {},
   "source": []
  },
  {
   "cell_type": "markdown",
   "metadata": {},
   "source": []
  },
  {
   "cell_type": "markdown",
   "metadata": {},
   "source": []
  },
  {
   "cell_type": "markdown",
   "metadata": {},
   "source": []
  },
  {
   "cell_type": "markdown",
   "metadata": {},
   "source": []
  },
  {
   "cell_type": "markdown",
   "metadata": {},
   "source": []
  },
  {
   "cell_type": "markdown",
   "metadata": {},
   "source": []
  },
  {
   "cell_type": "markdown",
   "metadata": {},
   "source": []
  },
  {
   "cell_type": "markdown",
   "metadata": {},
   "source": []
  },
  {
   "cell_type": "markdown",
   "metadata": {},
   "source": []
  },
  {
   "cell_type": "markdown",
   "metadata": {},
   "source": []
  },
  {
   "cell_type": "markdown",
   "metadata": {},
   "source": []
  },
  {
   "cell_type": "markdown",
   "metadata": {},
   "source": []
  },
  {
   "cell_type": "markdown",
   "metadata": {},
   "source": []
  },
  {
   "cell_type": "markdown",
   "metadata": {},
   "source": []
  },
  {
   "cell_type": "markdown",
   "metadata": {},
   "source": []
  },
  {
   "cell_type": "markdown",
   "metadata": {},
   "source": []
  },
  {
   "cell_type": "markdown",
   "metadata": {},
   "source": []
  },
  {
   "cell_type": "markdown",
   "metadata": {},
   "source": []
  },
  {
   "cell_type": "markdown",
   "metadata": {},
   "source": []
  },
  {
   "cell_type": "markdown",
   "metadata": {},
   "source": []
  },
  {
   "cell_type": "markdown",
   "metadata": {},
   "source": []
  },
  {
   "cell_type": "markdown",
   "metadata": {},
   "source": []
  },
  {
   "cell_type": "markdown",
   "metadata": {},
   "source": []
  },
  {
   "cell_type": "markdown",
   "metadata": {},
   "source": []
  },
  {
   "cell_type": "markdown",
   "metadata": {},
   "source": []
  },
  {
   "cell_type": "markdown",
   "metadata": {},
   "source": []
  },
  {
   "cell_type": "markdown",
   "metadata": {},
   "source": []
  },
  {
   "cell_type": "markdown",
   "metadata": {},
   "source": []
  },
  {
   "cell_type": "markdown",
   "metadata": {},
   "source": []
  }
 ],
 "metadata": {
  "kernelspec": {
   "display_name": "Python 3",
   "language": "python",
   "name": "python3"
  },
  "language_info": {
   "codemirror_mode": {
    "name": "ipython",
    "version": 3
   },
   "file_extension": ".py",
   "mimetype": "text/x-python",
   "name": "python",
   "nbconvert_exporter": "python",
   "pygments_lexer": "ipython3",
   "version": "3.7.6"
  }
 },
 "nbformat": 4,
 "nbformat_minor": 4
}
