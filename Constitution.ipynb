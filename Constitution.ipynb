{
 "cells": [
  {
   "cell_type": "markdown",
   "metadata": {},
   "source": [
    "# Triangle Constitution Sample"
   ]
  },
  {
   "cell_type": "markdown",
   "metadata": {},
   "source": [
    "## Preamble: Purpose\n",
    "\n",
    "[TODO: Cultural Preamble]"
   ]
  },
  {
   "cell_type": "markdown",
   "metadata": {},
   "source": [
    "## Article: Membership\n",
    "\n",
    "The Utah Chapter establishes two categories of membership: **active** and **alumni**. We also establish a formal bid process for recruitment of **new members**.\n",
    "\n"
   ]
  },
  {
   "cell_type": "markdown",
   "metadata": {},
   "source": [
    "### Section: Triangle Brother\n",
    "\n",
    "The Brothers of Triangle represent the core of Triangle. Brothers bear the responsibility of furthering Triangle's cause in our campus and community, exemplify integrity within and beyond their fields, and to maintain our Chapter and the friendships within."
   ]
  },
  {
   "cell_type": "markdown",
   "metadata": {},
   "source": [
    "#### Subsection: Academic Integrity\n",
    "\n",
    "Each Triangle Brother shall maintain a creditable scholastic record, and to exemplify academic integrity in his field of study.\n",
    "\n",
    "Triangle Brothers with a cumulative or term GPA at **4.0** shall be recognized by the Chapter for outstanding achievement. Brothers with a cumulative GPA or term GPA above **3.5** shall be recognized by the Chapter for their commendable academic performance.\n",
    "\n",
    "Every Triangle Brother shall commit to maintaining a **2.95** minimum cumulative and term GPA.\n",
    "\n",
    "Any Brother whose cumulative or term GPAs fall below a **3.0*** shall, in the following term, adhere to Utah Triangle's [Academic Improvement Plan](#), as executed by the Chapter's Academic Counsel.\n",
    "\n",
    "An appeal to have Triangle membership revoked shall be made for any Brother whose term GPA fall below **2.95** for two consecutive semesters by the Academic Counsel. Any Brother under proposal may appeal the proposal, with cause, to the Chapter's [Judicial Counsel](#). The Judicial Counsel holds the authority to nullify the appeal. If the Judical Counsel does not nullify the appeal, the member shall have their Triangle membership revoked and their records removed.\n"
   ]
  },
  {
   "cell_type": "markdown",
   "metadata": {},
   "source": [
    "#### Subsection: Service Above Self\n",
    "\n",
    "Each Triangle Brother shall work to assist and improve the campus, communities, and world in which they reside.\n",
    "\n",
    "Every Triangle Brother shall commit themselves to serve our campus and community for at least **ten** hours per term, or **twenty** hours per year. \n",
    "\n",
    "Every Triangle Brother shall also commit to contributing to **three** Greek philanthropies and **one** Fraternity-Sorority Life (FSL) event per term.\n",
    "\n",
    "As students of the University of Utah campus, every Triangle Brother will commit to being an active member of at least **one** other campus organization."
   ]
  },
  {
   "cell_type": "markdown",
   "metadata": {},
   "source": [
    "#### Subsection: Building the Bonds of Brotherhood\n",
    "\n",
    "Every Triangle Brother shall commit to creating, in our Chapter, an environment in which enduring friendships may be formed, and to maintain this environment for future generations of Triangle Brothers.\n",
    "\n",
    "Each Triangle Brother shall commit to being an active participant in furthering Triangle's cause, and shall fulfill their [obligations as legislative members of the Chapter's undertakings](#).\n",
    "\n",
    "Each Triangle Brother shall commit to being an active and regular participant in Chapter events and undertakings. While absolute attendance shall not be expected by the Chapter, there "
   ]
  },
  {
   "cell_type": "markdown",
   "metadata": {},
   "source": [
    "#### Paying Personal Bills Promptly\n",
    "\n",
    "Each term as a Triangle Brother, each Brother will commit to paying a \\$500 due. This due will be applied to the operation and insurance of the local Chapter, and the maintenance of the National Chapter.\n",
    "\n",
    "Every Triangle Brother shall have a right to open access to the current budget of the local Chapter.\n",
    "\n",
    "Every Triangle Brother shall have the opportunity to pay their term due in installments according to a [Utah Triangle Promissory Note](#) signed by the Brother and the Chapter Treasurer."
   ]
  },
  {
   "cell_type": "markdown",
   "metadata": {},
   "source": [
    "#### Subsection: Exceptions to Commitments\n",
    "\n",
    "Every Triangle Brother may have circumstances under which they cannot fulfill all their commitments as a Brother. In those circumstances, a brother may be granted a **special status** for a term.\n",
    "\n",
    "Any Triangle Brother seeking a one-term special status shall appeal to the Judicial Counsel with the case for their special status. The Judicial Board shall hear the case, and may waive or modify any commitment made by that Brother.\n",
    "\n",
    "Any Triangle Brother whose appeal for a special status involves a reduction of dues must present their appeal to the Judicial Counsel at least **two weeks prior** to the term's dues deadline. The Judicial Counsel shall hear the case and may modify the commitment of dues by that brother, for that term. Judicial shall not be permitted to reduce any Brother's dues beneath the sum cost of the Triangle National Active Member Free or Triangle Insurance Fee.\n",
    "\n",
    "The Judicial Board shall submit a report for each member granted a special status to the Vice President of the Chapter and the Chapter Treasurer. This report shall outline all waives and modifications to the commitments of the Brother granted a special status."
   ]
  },
  {
   "cell_type": "markdown",
   "metadata": {},
   "source": [
    "### Section: Alumni Brother\n",
    "\n",
    "[TODO: Alumni qualifications]\n",
    "\n",
    "[TODO: Alumni chapter]"
   ]
  },
  {
   "cell_type": "markdown",
   "metadata": {},
   "source": [
    "### Section: New Member\n",
    "\n",
    "[TODO: Accepted majors]\n",
    "\n",
    "[TODO: Bid Process]\n",
    "\n",
    "[TODO: Initiation Requirements]"
   ]
  },
  {
   "cell_type": "markdown",
   "metadata": {},
   "source": [
    "## Article: Organization\n",
    "\n",
    "[TODO: Preamble. Establish Records, Legislative, Executive, Judicial]"
   ]
  },
  {
   "cell_type": "markdown",
   "metadata": {},
   "source": [
    "### Section: Chapter Meetings\n",
    "\n",
    "[TODO: Preamble, Purpose]\n",
    "\n",
    "[TODO: Meeting Structure & Attendance]\n",
    "\n",
    "[TODO: Legislative Process]"
   ]
  },
  {
   "cell_type": "markdown",
   "metadata": {},
   "source": [
    "### Section: Executive Responsibilities\n",
    "\n",
    "[TODO: Preamble, Executive Purpose]\n",
    "\n",
    "[TODO: Executive Transition]"
   ]
  },
  {
   "cell_type": "markdown",
   "metadata": {},
   "source": [
    "#### President\n",
    "\n",
    "[TODO: This]"
   ]
  },
  {
   "cell_type": "markdown",
   "metadata": {},
   "source": [
    "#### Vice President\n",
    "\n",
    "[TODO: This]"
   ]
  },
  {
   "cell_type": "markdown",
   "metadata": {},
   "source": [
    "#### Secretrary\n",
    "\n",
    "[TODO: This]"
   ]
  },
  {
   "cell_type": "markdown",
   "metadata": {},
   "source": [
    "#### Treasurer\n",
    "\n",
    "[TODO: This]"
   ]
  },
  {
   "cell_type": "markdown",
   "metadata": {},
   "source": [
    "#### Brotherhood Officer\n",
    "\n",
    "[TODO: This]"
   ]
  },
  {
   "cell_type": "markdown",
   "metadata": {},
   "source": [
    "#### External Officer\n",
    "\n",
    "[TODO: This]"
   ]
  },
  {
   "cell_type": "markdown",
   "metadata": {},
   "source": [
    "#### Recruitment Officer\n",
    "\n",
    "[TODO: This]"
   ]
  },
  {
   "cell_type": "markdown",
   "metadata": {},
   "source": [
    "#### Member Educator\n",
    "\n",
    "[TODO: This]"
   ]
  },
  {
   "cell_type": "markdown",
   "metadata": {},
   "source": [
    "### Section: Judicial Counsel\n",
    "\n",
    "[TODO: Preamble, Judicial Purpose]"
   ]
  },
  {
   "cell_type": "markdown",
   "metadata": {},
   "source": [
    "### Academic Counsel\n",
    "\n",
    "[TODO: Academic Counsel]"
   ]
  }
 ],
 "metadata": {
  "kernelspec": {
   "display_name": "Python 3",
   "language": "python",
   "name": "python3"
  },
  "language_info": {
   "codemirror_mode": {
    "name": "ipython",
    "version": 3
   },
   "file_extension": ".py",
   "mimetype": "text/x-python",
   "name": "python",
   "nbconvert_exporter": "python",
   "pygments_lexer": "ipython3",
   "version": "3.7.6"
  }
 },
 "nbformat": 4,
 "nbformat_minor": 4
}
