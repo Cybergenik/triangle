{
 "cells": [
  {
   "cell_type": "markdown",
   "metadata": {},
   "source": [
    "# [Triangle Redbook Constitution Sample (v1)](https://github.com/Spelkington/triangle/blob/master/Constitution.ipynb)"
   ]
  },
  {
   "cell_type": "markdown",
   "metadata": {},
   "source": [
    "## Preamble: Purpose\n",
    "\n",
    "[TODO: Just Cause]"
   ]
  },
  {
   "cell_type": "markdown",
   "metadata": {},
   "source": [
    "## Article: Membership\n",
    "\n",
    "The Utah Chapter shall establish two categories of membership, **Brother** and **Alumni Brother**.\n",
    "\n",
    "The Brothers and Alumni Brothers of our Chapter shall commit themselves to the Cause of our Chapter, to the precepts and chosen ideals of our Fraternity, and to the preservation and promotion of the chosen ideals of our Fraternity.\n",
    "\n",
    "Our Chapter shall accept bids from **new members** consisting of men who show distinguished characters, values like the chosen ideals of the Fraternity, and who are willing to accept their full share in maintaining a Chapter in which enduring friendships may be formed.\n",
    "\n",
    "Our Utah Chapter shall, in the course of our work in our campus and community, seek out individuals that exemplify the chosen ideals of the Fraternity and extend to them the honorary status of **distinguished fellow**."
   ]
  },
  {
   "cell_type": "markdown",
   "metadata": {},
   "source": [
    "### Section: Brother\n",
    "\n",
    "The Brothers of Triangle represent the core of our Chapter and Fraternity. Brothers bear the responsibility of furthering Triangle's cause in our campus and community, to exemplify integrity within and beyond their fields, and to maintain our Chapter and the friendships within.\n",
    "\n",
    "Any man who has completed the Ritual and remains in good standing with our Chapter and the National Fraternity shall be a **Brother** of the Utah Chapter of Triangle."
   ]
  },
  {
   "cell_type": "markdown",
   "metadata": {},
   "source": [
    "#### Subsection: Academic Integrity\n",
    "\n",
    "Each Brother of our Chapter shall commit to rigorous study, a creditable scholastic record, and the pursuance of excellence within his field of study.\n",
    "\n",
    "Our Chapter shall recognize, each term, each Brother with a cumulative or term GPA of **4.0** for his outstanding academic achievement, and shall record his distinctive and honorable performance in our Chapter's history.\n",
    "\n",
    "Our Chapter shall recognize, each term, each Brother with a cumulative or term GPA at or above a **3.5** for his commendable academic performance, and shall record his commendable performance in our Chapter's history.\n",
    "\n",
    "Any Brother whose cumulative or term GPA is deemed to fall short of his commitment to a creditable scholastic record shall, in the following term, commit to the improvement of his scholastic record by adherence to our Chapter's [Academic Improvement Plan](#) in collaboration with our Chapter's [Academic Council](#)\n",
    "\n",
    "Our Chapter Academic Council shall make and submit a [proposal to have Triangle membership revoked](#) for any Brother who fails to maintain a creditable scholastic record for two consecutive semesters to the Chapter's [Judicial Counsel](#). "
   ]
  },
  {
   "cell_type": "markdown",
   "metadata": {},
   "source": [
    "#### Subsection: Campus and Community\n",
    "\n",
    "Each Brother of our Chapter shall commit himself to the faithful upholding of the traditions and program of his Alma Mater and the enhancement of his community through service and philanthropy.\n",
    "\n",
    "Each Brother shall commit his time, effort, and talents to the betterment of his campus and community.\n",
    "\n",
    "Each Brother shall commit his time, effort and talents to strengthening bonds of friendship and comradery between the members of our Chapter and our Greek, campus, and local communities.\n",
    "\n",
    "Every Brother shall commit his time, effort, and talents furthering other worthy Causes in the Greek, campus, and local communities that exemplify, compliment, or expand upon the precepts and chosen ideals of our Fraternity.\n",
    "\n",
    "Every Brother shall commit his time, effort, and talents to contributing any philanthropic efforts undertaken by our Chapter to support organizations whose causes exemplify, compliment, or expand upon the precepts and chosen ideals of our Fraternity."
   ]
  },
  {
   "cell_type": "markdown",
   "metadata": {},
   "source": [
    "#### Subsection: Building the Bonds of Brotherhood\n",
    "\n",
    "Every Triangle Brother shall commit to creating, in our Chapter, a lasting environment in which enduring friendships may be formed and the Cause of our chapter may be pursued.\n",
    "\n",
    "Each Triangle Brother shall commit to being an active participant in creating a strong foundation on which our Chapter can exist by fulfilling his [obligations as voting constitutents of the Chapter.](#).\n",
    "\n",
    "Each Triangle Brother shall commit to being an active and regular participant in Chapter events and undertakings. While absolute attendance shall not be expected by the Chapter, Brothers shall commit to informing the Vice President when anticipating an absence from a Chapter event."
   ]
  },
  {
   "cell_type": "markdown",
   "metadata": {},
   "source": [
    "#### Subsection: Paying Personal Bills Promptly\n",
    "\n",
    "Each term as a Triangle Brother, each Brother will commit to paying a their [term dues](#) to our Chapter. This due will be applied to the operation and insurance of the local Chapter, and the maintenance of the National Fraternity.\n",
    "\n",
    "Every Triangle Brother shall have a right to open access to the current budget of the local Chapter.\n",
    "\n",
    "Every Triangle Brother shall have the right to pay their term due in installments according to a promissory note signed by himself and the Chapter Treasurer.\n",
    "\n",
    "Every Triangle brother shall commit to pay their term due in full, or submit to the Chapter Treasurer a promissory note, promptly by the term dues date dictate by the Chapter Treasurer.\n",
    "\n",
    "If a Brother's term dues remain unpaid one week after the term due date, his membership in our Chapter and the National Fraternity will be revoked and membership records removed."
   ]
  },
  {
   "cell_type": "markdown",
   "metadata": {},
   "source": [
    "### Section: Alumni Brother\n",
    "\n",
    "The Alumni Brothers of Triangle are those who have committed themselves to Brothers for the duration of their undergraduate career and continue to further the cause and values of Triangle in the broader world.\n",
    "\n",
    "Alumni Brothers of Triangle shall commit themselves to lending assistance and guidance to their original Chapter, and the National Fraternity."
   ]
  },
  {
   "cell_type": "markdown",
   "metadata": {},
   "source": [
    "#### Subsection: Qualifications for Promotion to Alumnus\n",
    "\n",
    "Each Triangle Brother shall become an Alumni Brother upon the completion of their undergraduate degree. Brothers may also become an Alumni Brother upon completion of **seven** semesters as a Triangle Brother."
   ]
  },
  {
   "cell_type": "markdown",
   "metadata": {},
   "source": [
    "[TODO: Alumni Appeal Process]\n",
    "\n",
    "[TODO: Alumni Chapter]"
   ]
  },
  {
   "cell_type": "markdown",
   "metadata": {},
   "source": [
    "### Section: New Member\n",
    "\n",
    "Men studying in the field of science, architecture, and engineering may bid for membership in our Chapter.\n",
    "\n",
    "Our Chapter shall work to extend these bids to men who show distinguished characters, values alike those chosen ideals of the Fraternity, and who are willing to accept their full share in maintaining a Chapter in which enduring frienships may be formed."
   ]
  },
  {
   "cell_type": "markdown",
   "metadata": {},
   "source": [
    "#### Subsection: Approved Majors\n",
    "\n",
    "Any man seeking to bid for membership and initiation as a Triangle Brother in Utah Triangle must be studying a field of:\n",
    "\n",
    "* Architecture;\n",
    "* Astronomy;\n",
    "* Bioengineering;\n",
    "* Biomedical Engineering;\n",
    "* Biology;\n",
    "* Chemical Engineering;\n",
    "* Chemistry;\n",
    "* City & Metropolitan Planning;\n",
    "* Civil & Environmental Engineering;\n",
    "* Computer Engineering;\n",
    "* Computer Science;\n",
    "* Electrical Engineering;\n",
    "* Geological Engineering;\n",
    "* Material Science & Engineering;\n",
    "* Mathematics;\n",
    "* Mechanical Engineering;\n",
    "* Metallurgical Engineering;\n",
    "* Mining Engineering; and\n",
    "* Physics;\n",
    "\n",
    "Additionally, exceptions have been made for men pursuing Bachelors of Science in:\n",
    "\n",
    "* Entertainment Arts & Engineering; and\n",
    "* Games\n",
    "\n",
    "Men interested in a bid for membership and initiation as a Triangle Brother may petition the Utah Chapter and National Fraternity for an extension of this list."
   ]
  },
  {
   "cell_type": "markdown",
   "metadata": {},
   "source": [
    "#### Subsection: Bids for Membership\n",
    "\n",
    "Men interested in a bid for membership must attend at least **one** event deemed as a recruitment event by the Chapter. Each bid for membership must be approved by a [bid vote](#).\n",
    "\n",
    "Members who receive and accept a bid for membership shall take the [Triangle Pledge Oath](#) and granted the status of **New Member**."
   ]
  },
  {
   "cell_type": "markdown",
   "metadata": {},
   "source": [
    "#### Subsection: New Member Term\n",
    "\n",
    "New Members of the Chapter shall commit to a **New Member Term**. In their New Member Term, New Members shall be given a chance to show a dedication to growth of character and commitment to the chosen ideals of Triangle.\n",
    "\n",
    "Each New Member shall make the same commitments made by Brothers, with the exception of commitments required of the legislature.\n",
    "\n",
    "Each New Member shall commit to be an active participant in Triangle's New Member Education. New Member Education will consist in a series of events designed to teach New Members about the chosen ideals of Triangle and important life skills. New Members shall commit to attending at least **eight** New Member Education sessions.\n",
    "\n",
    "Each New Member shall also commit to a study of the history and chosen ideals of Triangle and the Chapter. As part of this commitment, each New Member shall:\n",
    "\n",
    "* Write a one-page synopsis about the [Triangle Fraternity and its Utah Chapter](#);\n",
    "* Read and study the [most recent ratification of the Redbook of the Utah Chapter of Triangle](#);\n",
    "* Recall, by memory, the [constituents of the University of Utah's Greek Row](#);\n",
    "* Recall, by memory, the [Greek alphabet](#).\n",
    "* Recall, by memory, the [Triangle colors and flowers](#);\n",
    "* Recall, by memory, the [founding Brothers of Triangle](#);\n",
    "* Recall, by memory, the [Triangle Code of Ethics](#); and,\n",
    "* Read, study, and analyze [*Everyman: A Morality Play*](#);\n",
    "\n",
    "#### In Which Enduring Friendships May Be Formed\n",
    "\n",
    "Under no circumstance shall the Chapter, or any Brother in the Chapter, take advantage of New Members. The Chapter and every Brother shall strive to create a welcoming environment for New Members. Neither the Chapter, nor any Brother, shall ever seek to haze or create an unwelcome environment for any New Member. This commitment extends **to and beyond** [National Fraternity](#) and [Fraternity and Sorority Life](#) guidelines.\n",
    "\n",
    "**Any Brother who violates this solemn commitment shall have their Triangle membership revoked and be reported to the National Fraternity, University of Utah, Fraternity and Sorority Life, and any relevant legal authorities.**"
   ]
  },
  {
   "cell_type": "markdown",
   "metadata": {},
   "source": [
    "#### Subsection: Initiation\n",
    "\n",
    "New Members shall have an opportunity to bid for initiation at the end of their New Member Term.\n",
    "\n",
    "To receive a bid for Initiation from the Chapter, a New Member must complete the requirements of their New Member Term and undergo and pass an [Initiation vote](#) by the Chapter's legislative quorum.\n",
    "\n",
    "To accept a bid for Initiation, a New Member must demonstrate knowledge of the history and chosen ideals of the fraternity. Additionally, New Members accepting a bid for Initiation shall commit to paying a **$250** Initiation Due to the National Fraternity to support the maintenance of National records in perpetuity.\n",
    "\n",
    "Upon his Initiation, each New Member shall earn the title of [**Brother**](#) and receive the full rights and commitments of a Triangle Brother. They will be recorded as Brothers by the National Fraternity and made eligible for attendance at [National Events](#) and financial aid and scholarships by the [Triangle Education Foundation](#). Additionally, he will become eligible for the status of [**Alumni Brother**](#) upon completion of his undergraduate degree or **seven** semesters as a Triangle Brother."
   ]
  },
  {
   "cell_type": "markdown",
   "metadata": {},
   "source": [
    "### Section: Distinguished Fellow\n",
    "\n",
    "[TODO: This.]"
   ]
  },
  {
   "cell_type": "markdown",
   "metadata": {},
   "source": [
    "## Article: Organization\n",
    "\n",
    "[TODO: Preamble. Establish Records, Legislative, Executive, Judicial]"
   ]
  },
  {
   "cell_type": "markdown",
   "metadata": {},
   "source": [
    "### Section: Legislature\n",
    "\n",
    "Our Chapter shall establish a legislative body composed of all Brothers of our Chapter.\n",
    "\n",
    "The Legislature shall commit to the maintenance and orientation of the [Redbook of the Utah Chapter of Triangle](#) and [Constitution](#) and [Resolutions](#) therein.\n",
    "\n",
    "[TODO: More here?]"
   ]
  },
  {
   "cell_type": "markdown",
   "metadata": {},
   "source": [
    "#### Chapter Meetings\n",
    "\n",
    "Our Chapter, and the legislative body of our Chapter, shall meet regularly for the purposes of properly organizing our Chapter's affairs and furthering our Chapter's cause.\n",
    "\n",
    "All Chapter Meetings shall occur at a time and place agreed upon by our Chapter. The setting for Chapter Meetings shall be recorded and made available to Brothers, Alumni Brothers, New Members and potential New Members.\n",
    "\n",
    "Each Chapter Meeting shall have time allocated for an Overview of any New Business, led by our President and conducted by the Executive Board. Our President and Executive Board shall commit to keeping this Overview to a reasonable time.\n",
    "\n",
    "If any item of New Business required discussion by our Chapter, any Brother may request that time be allocated for discussion of that item of New Business. This discussion shall be lead by the Brother to which the item of New Business primarily pertains. The President may end the discussion of the item of New Business at his discretion, and for the sake of time.\n",
    "\n",
    "All time following the Overview and discussion of all items of New Business shall be allocated to the [Purpose] of the Chapter Meeting.\n",
    "\n",
    "Each Chapter Meeting shall have an expected duration. Brothers and New Members shall commit to attending for the full expected duration of a Chapter Meeting, but shall not be expected to remain past the expected duration of a Chapter Meeting.\n",
    "\n",
    "The Brother Secretary of our Chapter shall lead the minuting of the Overview and discussions of New Business of each meeting. Chapter Meeting minutes shall reflect, in good faith, the information of the Overview and discussions of New Business. The Brother Secretary shall ensure Chapter Meeting minutes are available following the minuted Chapter Meeting."
   ]
  },
  {
   "cell_type": "markdown",
   "metadata": {},
   "source": [
    "##### Purpose for Meeting\n",
    "\n",
    "Each Chapter Meetings shall have an established Purpose for Meeting, and consist of a core objective that works to further the Cause of our Chapter.\n",
    "\n",
    "The Purpose of each Chapter Meeting shall have time allocated for the execution that Purpose.\n",
    "\n",
    "The Purpose of each Chapter Meeting shall be decided and made available to our Chapter prior to the Chapter Meeting."
   ]
  },
  {
   "cell_type": "markdown",
   "metadata": {},
   "source": [
    "##### Brothers' Report\n",
    "\n",
    "Brothers' Report shall be a Chapter Meeting Purpose dedicated to providing every Brother or Alumni Brother and audience of with the other Brothers of his Chapter, in which he can discuss in solemn confidence matters regarding the Cause of our Chapter and the precepts of the Fraternity as set forth by the Ritual.\n",
    "\n",
    "New Members, potential New Members, distinguished fellows, and the general public shall not be permitted to be in attendance of a Brothers' Report. All matters of a Brothers' Report shall be discussed in confidence. Brothers and Alumni Brothers shall commit to **never** discuss the matters of any Brothers' Report with any party that was not a Brother or Alumni Brother at the occurrence of that Brothers' Report.\n",
    "\n",
    "Brothers' Reports shall be led to order by the President of our Chapter and secured by the designated Sergeant at Arms.\n",
    "\n",
    "The President of our Chapter shall, in extraneous circumstances, substitute the Purpose of any Chapter Meeting with an emergency Brothers' Report."
   ]
  },
  {
   "cell_type": "markdown",
   "metadata": {},
   "source": [
    "#### Commitments of Brothers of the Legislature\n",
    "\n",
    "Each Brother of our Chapter's Legislature shall commit himself to regularly attend and be a constructive participant at Chapter Meetings.\n",
    "\n",
    "Each Brother of our Chapter's Legislature shall commit himself to attend **all** Chapter Meetings with the Purpose of a Brothers' Report.\n",
    "\n",
    "Each Brother of our Chapter's Legislature shall commit himself to request an exemption from the Vice President of the Chapter if circumstances prevent him from attending a Brother's Report.\n",
    "\n",
    "The Vice President of our Chapter shall conduct audits to guarantee each Brother of the Chapter's Legislature has upheld his commitments to the Legislature. The Vice President shall personally consult with every Brother of our Chapter's Legislature who, following audit, has not upheld his commitments to the Legislature.\n",
    "\n",
    "The Vice President of our Chapter shall hold the power to suspend the voting privileges of any Brother of the Chapter's Legislature that has not upheld his commitments to the Legislature as determined by audit.\n",
    "\n",
    "The Vice President of our Chapter shall hold the power to reinstate the voting privileges of any Brother of the Chapter's Legislature whose voting privileges were suspended after determination by audit.\n",
    "\n",
    "Any Brother of the Chapter's Legislature who has had his voting privileges suspended may [appeal](#) his suspension to the Judicial Board of our Chapter.\n",
    "\n",
    "The President of the Chapter shall present a report of all voting privileges within the body of the Legislature prior to votes made by the Legislature."
   ]
  },
  {
   "cell_type": "markdown",
   "metadata": {},
   "source": [
    "#### Votes by the Legislature\n",
    "\n",
    "The Legislature of the Chapter shall vote on matters regarding the cause and organization of our Chapter and Fraternity, or any other matter where the approval of a quorum of our Chapter is deemed to be in good faith.\n",
    "\n",
    "In general, the Legislature of the Chapter shall be deemed to have a valid quorum when at least ***one-half*** of the voting Brothers of the Legislature are in attendance. Exceptions to this standard of quorum may be made in special circumstances.\n",
    "\n",
    "Alumni Brothers of the Chapter present at a convention of the Legislature shall retain the right to vote on matters presented to the Legislature. The presence of Alumni Brothers of the Chapter shall contribute to the count of the quorum but shall not influence the validity of the quorum.\n",
    "\n",
    "The Legislature of the Chapter shall, in a standard vote, allow each Brother of the Legislature to vote in **affirmation** or **negation**. Each Brother of the Legislature shall also be allowed to **abstain** from a standard vote.\n",
    "\n",
    "A **simple majority** of the Legislature of the Chapter shall consist of ***one-half*** of a quorum.\n",
    "\n",
    "A **strong majority** of the Legislature of the Chapter shall consist of ***two-thirds*** a quorum.\n",
    "\n",
    "##### Alternative Vote\n",
    "\n",
    "The Legislature of the Chapter shall, in cases where multiple candidates are presented for a vote, conduct an **alternative vote** where each Brother of the Legislature ranks the candidates in order of preference.\n",
    "\n",
    "* In the first count, each vote is given to the highest ranked candidate. If a candidate receives a simple majority, they win the election. \n",
    "* If no candidate wins a simple majority, the candidate with the least votes is eliminated and their votes are awarded to the next-favored candidate of each vote. \n",
    "\n",
    "This process is repeated until a candidate receives a simple majority."
   ]
  },
  {
   "cell_type": "markdown",
   "metadata": {},
   "source": [
    "#### Approval of Chapter Budgets\n",
    "\n",
    "[TODO: This]"
   ]
  },
  {
   "cell_type": "markdown",
   "metadata": {},
   "source": [
    "#### Bids for Membership\n",
    "\n",
    "[TODO: This]"
   ]
  },
  {
   "cell_type": "markdown",
   "metadata": {},
   "source": [
    "#### Bids for Initiation\n",
    "\n",
    "The Legislature shall commit to ensure that bids for Initiation are extended only to men who show distinguished characters, values like the chosen ideals of our Fraternity, and who are willing to accept their full share in maintaining a Chapter in which enduring frienships may be formed.\n",
    "\n",
    "The Legislature of the Chapter shall conduct a vote for the extension of Initiation bids to **New Members** who have satisfied the [requirements for Initiation](#).\n",
    "\n",
    "The extension for a bid to initiation shall be determined by a vote where the conditions are:\n",
    "\n",
    "* **Less than two** votes in negation allows an extended bid to initiate; or\n",
    "* **Less than 10% of the voting quorum** votes in negation shall result in a discussion, followed by a re-vote; or\n",
    "* **Greater than or equal to 10% of the voting quorum** votes in negation shall result in a discussion, but no re-vote.\n",
    "\n",
    "If a **New Member** is not extended a bid to initiate, our Chapter may vote by simple majority to extend a second [bid for membership](#)."
   ]
  },
  {
   "cell_type": "markdown",
   "metadata": {},
   "source": [
    "#### Redbook Ratifications\n",
    "\n",
    "The Legislature of the Chapter shall convene to ratify a new edition of the Redbook of our Chapter each academic year. A new edition of the Redbook shall contain the Constitution, all Resolutions, and the Membership of our Chapter at the time of ratification.\n",
    "\n",
    "The Redbook of our Chapter shall be ratified with a **strong majority** of a standard quorum of the Legislature of our Chapter. All Brothers of the Legislature of our Chapter in favor of ratification shall be signatories of the Redbook.\n",
    "\n",
    "If an edition of the Redbook of our Chapter is not ratified, the previous ratified edition of the Redbook of our Chapter shall remain the effective governing document for Chapter operations."
   ]
  },
  {
   "cell_type": "markdown",
   "metadata": {},
   "source": [
    "#### Constitutional Amendments\n",
    "\n",
    "The Legislature of our Chapter shall maintain a creditable Constitution as the foundational declaration of our Chapter's Cause and operations.\n",
    "\n",
    "The Legislature shall hold the power to amend the Constitution of our Chapter with a **strong majority** of a standard quorum."
   ]
  },
  {
   "cell_type": "markdown",
   "metadata": {},
   "source": [
    "#### Chapter Resolutions\n",
    "\n",
    "The Legislature of our Chapter shall maintain a record of all Resolutions made by our chapter regarding our Cause, operation, or any other matter where the approval of a quorum of our Legislature is deemed in good faith.\n",
    "\n",
    "The Legislature shall hold the power to create, expel, or amend Resolutions with a **simple majority** of a standard quorum. Exceptions shall be made in cases where the Resolution defines a required majority on another matter, in which case the power to create, expel, or amend that Resolution shall be the same as the required majority defined within that Resolution."
   ]
  },
  {
   "cell_type": "markdown",
   "metadata": {},
   "source": [
    "#### Revokations of Membership\n",
    "\n",
    "The Legislature of our Chapter shall hold the power to, in dire and necessary cases, revoke the membership of a Brother.\n",
    "\n",
    "In cases where the Judicial Board has [voted to pass a decision](#) regarding the revokation of membership of a Brother to the Legislature, the Legslature will hold a vote on the revokation of a Brother's Triangle membership.\n",
    "\n",
    "The Legislature shall hold the power to revoke a Brother's Triangle membership with a **strong majority** of a **three-fourths quorum, excluding the Brother under consideration**.\n",
    "\n",
    "If the Legislature votes to revoke a Brother's Triangle membership, the Brother's membership in our Chapter and the National Fraternity will be revoked and membership records removed."
   ]
  },
  {
   "cell_type": "markdown",
   "metadata": {},
   "source": [
    "### Section: Executive Board\n",
    "\n",
    "[TODO: Preamble, Executive Purpose]"
   ]
  },
  {
   "cell_type": "markdown",
   "metadata": {},
   "source": [
    "#### Executive Positions\n",
    "\n",
    "Our Chapter shall establish the following executive positions and appoint, by election, qualified men of character to each position every academic year."
   ]
  },
  {
   "cell_type": "markdown",
   "metadata": {},
   "source": [
    "##### ***President***\n",
    "\n",
    "The President of our Chapter shall lead the Brothers of our Chapter in executing our Chapter's cause and pursuance of long-term visions and resolutions for the Chapter.\n",
    "\n",
    "Our President shall lead our Chapter in its commitments and activities alongside the other members of the Executive Board.\n",
    "\n",
    "Our President shall provide direction and assistance to each Executive Officer in the execution of their respective responsibilities and projects.\n",
    "\n",
    "Our President shall, alongside our Chapter Vice President and Fraternal Officer, work to maintain a culture that works to further the cause of our Chapter and aligns with the precepts of the Fraternity as set forth in the Ritual.\n",
    "\n",
    "Our President shall be the primary point of contact between the Utah Chapter and Utah Alumni Chapter, and work to maintain the connection between Brothers and Alumni Brothers.\n",
    "\n",
    "Our President shall direct the business and operation of Chapter Meetings.\n",
    "\n",
    "Our President, along with the Chapter Secretary, shall be a point of contact between our Chapter and our National Fraternity.\n",
    "\n",
    "Our President shall be the primary point of contact between our Chapter and the University of Utah Fraternity & Sorority Life.\n",
    "\n",
    "Our President shall lead the [Academic Counsel](#) of our Chapter, committed to the maintenance of the Chapter's creditable scholastic record."
   ]
  },
  {
   "cell_type": "markdown",
   "metadata": {},
   "source": [
    "##### ***Vice President***\n",
    "\n",
    "The Vice President of our Chapter shall assist the President in the execution of our Chapter's cause and pursuance of long-term visions and resolutions for the Chapter.\n",
    "\n",
    "Our Vice President shall, alongside our Chapter President and Fraternal Officer, work to align the vision and cause of our Chapter with the precepts of the Fraternity as set forth in the Ritual.\n",
    "\n",
    "Our Vice President shall be the primary advocate, monitor, and executor of the commitments made by each Triangle Brother, and primary leader of his Brothers in accepting full shares of any task, however menial, involved in maintaining our Chapter.\n",
    "\n",
    "Our Vice President shall be the primary monitor of risk within the chapter and its' activities. This will include proper and thorough education of all members regarding risk, behavior, and maintenance of integrity among the characters of all Brothers.\n",
    "\n",
    "Our Vice President shall act as the Sergeant at Arms of Chapter Meetings.\n",
    "\n",
    "Our Vice President shall be a member in the [Academic Counsel](#) of our Chapter, committed to the maintenance of the Chapter's creditable scholastic record."
   ]
  },
  {
   "cell_type": "markdown",
   "metadata": {},
   "source": [
    "##### ***Brother Secretrary***\n",
    "\n",
    "The Chapter Secretary shall be the primary custodian of all records, both local and National, for the Utah Chapter.\n",
    "\n",
    "Our Chapter Secretary shall lead the maintenance of our Chapter's infrastructure, and the advocate for the creation of new chapter infrastructure.\n",
    "\n",
    "Our Chapter Secretary shall, along with the President of our Chapter, be a point of contact between our Chapter and our National Fraternity.\n",
    "\n",
    "Our Chapter Secretary shall be the primary custodian of our Chapter's Redbook and all contents within.\n",
    "\n",
    "Our Chapter Secretary shall be the primary custodian of all documentation of our Chapter's legislature and primary assistant to the legislative process.\n",
    "\n",
    "Our Chapter Secretary shall be the primary custodian of our Chapter's offical communication channels."
   ]
  },
  {
   "cell_type": "markdown",
   "metadata": {},
   "source": [
    "##### ***Treasurer***\n",
    "\n",
    "The Chapter Treasurer shall be the primary custodian of the finances of our Chapter.\n",
    "\n",
    "Our Chapter Treasurer shall assist all members of the Executive Board in managing their allocation from our Chapter Budget.\n",
    "\n",
    "Our Chapter Treasurer shall preserve and maintain all financial records for our Chapter and ensure open availability of financial records to all Brothers.\n",
    "\n",
    "Our Chapter Treasurer shall function as the payer of all bills due by our Chapter.\n",
    "\n",
    "Our Chapter Treasurer shall ensure the responsible use of all our Chapter funds, and keep all spending within the means of our Chapter.\n",
    "\n",
    "Our Chapter Treasurer shall be the primary advocate to keep Chapter membership financially accessable for all Brothers."
   ]
  },
  {
   "cell_type": "markdown",
   "metadata": {},
   "source": [
    "##### ***Fraternal Officer***\n",
    "\n",
    "The Chapter Fraternal Officer shall be the primary custodian of our Chapter's internal culture, and shall ensure that our Chapter culture continues to align with our Chapter's cause and chosen ideals of our Fraternity.\n",
    "\n",
    "Our Fraternal Officer shall, alongside our Chapter President and Vice President, work to align the vision and cause of our Chapter with the precepts of the Fraternity as set forth in the Ritual.\n",
    "\n",
    "Our Fraternal Officer shall oversee the adherence to current and introduction of new Fraternity traditions.\n",
    "\n",
    "Our Fraternal Officer shall lead our Chapter in the creation of a Chapter environment in which enduring friendships may be formed.\n",
    "\n",
    "Our Fraternal External Officer shall lead the planning and execution of Chapter Brotherhood events.\n",
    "\n",
    "Our External Officer shall architect and execute creative and engaging programming that furthers the Cause of our Chapter."
   ]
  },
  {
   "cell_type": "markdown",
   "metadata": {},
   "source": [
    "##### ***External Officer***\n",
    "\n",
    "The Chapter External Officer shall lead our Chapter in fulfilling its envisioned role in the Greek, campus, and local communities.\n",
    "\n",
    "Our External Officer shall be the primary point of contact between, and custodion of, relationships between external organizations and our Chapter.\n",
    "\n",
    "Our External Officer shall be the primary architect and executor of events attended by our Chapter and external organizations or parties.\n",
    "\n",
    "Our External Officer shall architect and execute creative and engaging programming that furthers the Cause of our Chapter."
   ]
  },
  {
   "cell_type": "markdown",
   "metadata": {},
   "source": [
    "##### ***Recruitment Officer***\n",
    "\n",
    "The Chapter Recruitment Officer shall lead our Chapter the recruitment of qualified men of strong character and integrity into our chapter.\n",
    "\n",
    "Our Recruitment Officer shall develop and maintain a core recruitment message that captures the essence of our Chapter's cause and chosen ideals of our Fraternity.\n",
    "\n",
    "Our Recruitment Officer shall lead our Chapter in our involvement in Fraternity and Sorority Life recruitment events and planned programming.\n",
    "\n",
    "Our Recruitment Officer shall lead the planning and execution of events attended by our Chapter and potential New Members.\n",
    "\n",
    "Our Recruitment Officer shall architect and execute creative and engaging programming that furthers the Cause of our Chapter."
   ]
  },
  {
   "cell_type": "markdown",
   "metadata": {},
   "source": [
    "##### ***Member Educator***\n",
    "\n",
    "The Chapter Member Educator shall lead in the creation, refinement, and execution of programming and curriculum designed to cultivate strong character and foster integrity and growth in each Brother.\n",
    "\n",
    "Our Member Educator shall architect comprehensive [New Member](#) and [All-Chapter](#) curriculae to accompany and enhance the science, architecture, and engineering core curriculae taught by our University.\n",
    "\n",
    "Our Member Educator shall assist Brothers in their mission to promote the welfare of their professions through professional development opportunities and workshops.\n",
    "\n",
    "Our Member Educator shall an appointed New Member Eductor in leading all New Members through their [New Member Term](#).\n",
    "\n",
    "Our Member Educator shall, in coordination with the President and Vice President, create and innovate engaging and constructive meeting Purposes.\n",
    "\n",
    "Our Member Educator shall architect and execute creative and engaging programming that furthers the Cause of our Chapter."
   ]
  },
  {
   "cell_type": "markdown",
   "metadata": {},
   "source": [
    "#### Elections for Executive Positions\n",
    "\n",
    "Brothers of our Chapter"
   ]
  },
  {
   "cell_type": "markdown",
   "metadata": {},
   "source": [
    "#### Transition of Executive Authority\n",
    "\n",
    "[TODO: This]"
   ]
  },
  {
   "cell_type": "markdown",
   "metadata": {},
   "source": [
    "#### Replacement of an Executive Member\n",
    "\n",
    "[TODO: This]"
   ]
  },
  {
   "cell_type": "markdown",
   "metadata": {},
   "source": [
    "### Section: Judicial Board\n",
    "\n",
    "Our Chapter shall establish a Judicial Board tasked with defending the chosen ideals and precepts of the Fraternity.\n",
    "\n",
    "The Judicial Board shall be ensure the operations and relationships within our Chapter remain aligned with the chosen ideals and precepts of the Fraternity.\n",
    "\n",
    "The Judicial Board shall consist of **three** Brothers of our Chapter, each elected by a **strong majority** of our Chapter's Legislature.\n",
    "\n",
    "The Legislature of our Chapter shall commit to electing Brothers into vacant positions of the Judicial Board in a timely manner.\n",
    "\n",
    "Each Brother of the Judicial Board shall commit to maintaining a thorough knowledge of the precepts and chosen ideals of the Fraternity, and shall work diligently to align all decisions he makes as a Brother of the Judicial Board with those precepts and chosen ideals.\n",
    "\n",
    "Each Brother of the Judicial Board shall commit to keeping all decisions he makes as a Brother of the Judicial Board free of personal biases and conflicts.\n",
    "\n",
    "No Brother shall be allowed to serve on both the Executive and Judicial Boards simulateously. Additionally, Brothers of the Executive Board shall not be eligible for election to vacancies"
   ]
  },
  {
   "cell_type": "markdown",
   "metadata": {},
   "source": [
    "#### Conflicts of Interest\n",
    "\n",
    "In the case that a Brother of the Judicial Board feels he has a conflict of interest in a matter, he shall abstain from being a participant in the Judicial Board's decision on that matter.\n",
    "\n",
    "In the case that a Brother of the Judicial Board may have a conflict of interest but chooses not to abstain, that conflicted Brother may be forced to abstain by a **strong majority** of the remaining Judicial Board.\n",
    "\n",
    "In the case that a Brother of the Judicial Board abstains from being a participant in a decision, the remaining members of the Judicial Board shall elect a Brother of the Legislature as a substitute Brother of the Judicial Board for that decision.\n",
    "\n",
    "A **strong majority** shall be necessary to elect a temporary substitute Brother of the Judicial Board.\n",
    "\n",
    "A single Brother of the Judicial Board shall never have the authority to represent a strong majority of the Judicial Board. In the case that a single Brother of the Judicial Board does represent a strong majority of the Judicial Board, all voting matters of the Judicial Board shall be passed to the Legislature of the Chapter.\n",
    "\n",
    "Any Brother serving as a substitute Brother of the Judicial Board shall make the same [commitments](#) as an elected Brother of the Judicial Board."
   ]
  },
  {
   "cell_type": "markdown",
   "metadata": {},
   "source": [
    "#### Interpersonal Matters\n",
    "\n",
    "[TODO: This]"
   ]
  },
  {
   "cell_type": "markdown",
   "metadata": {},
   "source": [
    "#### Appeals to Disciplinary Action\n",
    "\n",
    "In the case that the Executive Board has assigned disciplinary action to a Brother, such as a [suspension of voting privileges](#), he may appeal the Judicial Board to nullify that disciplinary action.\n",
    "\n",
    "Any disciplinary action shall be nullified by a **simple majority** of the Judicial Board.\n",
    "\n",
    "[TODO: This]"
   ]
  },
  {
   "cell_type": "markdown",
   "metadata": {},
   "source": [
    "#### Fines\n",
    "\n",
    "Fines may be assigned to a Brother whose actions disrupt the Cause and operations of our Chapter to such an extent that a financial penalty may be just.\n",
    "\n",
    "Any Brother assigned a Fine shall be notified of the assignment by the Vice President of the Chapter within the 24-hour window that the Vice President becomes aware of the Brother’s finable offense. If the brother is not notified on the same calendar day that the Vice President becomes aware of the offense, the Fine shall become null and the assigned brother no longer responsible for payment.\n",
    "\n",
    "The Vice President of our Chapter shall be the only party that may assign a Fine. The Vice President can only assign a Fine listed in the Constitution if and only if the Brother meets the criteria for that Fine, or according to the procedure for an ad hoc fine.\n",
    "\n",
    "In the case that a Brother commits an action such that a fine is just but not enumerated in the Constitution and the Vice President of our Chapter is made aware of such an action, he may present an appeal for an *ad-hoc* Fine to the Judicial Board.\n",
    "\n",
    "An appeal for an *ad-hoc* Fine must include:\n",
    "\n",
    "* The action committed;\n",
    "* A justification for why the action ought to result in a fine; and\n",
    "* A proposed amount for the Fine.\n",
    "\n",
    "The Judicial Board shall convene to discuss an appeal for an *ad-hoc* Fine. If the Judicial Board decides unanimously that the Fine is just, the Judicial Board will assign to and notify the Brother of the *ad-hoc* Fine within 24 hours of the decision.\n",
    "\n",
    "No Fine will be considered permissible if the President or Vice President is a standing member of the Judicial Board. If a member of the Judicial Board is subject to a Fine, the remaining Judicial Board members will elect a temporary substitute.\n",
    "\n",
    "Any Brother assigned a Fine may appeal to the Judicial Board for dismissal or reduction of any Fine. The Judicial Board may dismiss, reduce, or provide an alternative non-monetary penalty for a Fine if an adequate appeal is provided by the fined Brother.\n",
    "\n",
    "The assignment and status of a Fine is to remain a confidential matter between the Vice President, the Judicial Board, and the fined Brother.\n",
    "\n",
    "The amount of any collected Fine will be managed by the Treasurer of our Chapter, who can decide to earmark and assign the amount for:\n",
    "\n",
    "* academic funding;\n",
    "* philanthropic funding; or \n",
    "* the savings of the Chapter."
   ]
  },
  {
   "cell_type": "markdown",
   "metadata": {},
   "source": [
    "#### Appeals for Special Status\n",
    "\n",
    "Every Triangle Brother may experience circumstances under which they cannot fulfill all their commitments as a Brother. In those circumstances, that Brother may be granted a one-term **special status**.\n",
    "\n",
    "Any Triangle Brother seeking a one-term special status shall appeal to the Judicial Board with the case for their special status. The Judicial Board shall hear the case, and may waive or modify any commitment made by that Brother. If the Judicial Board waives or modifies any commitments made by that Brother, they shall also waive or modify the rights of that Brother accordingly.\n",
    "\n",
    "Any Triangle Brother whose appeal for a special status involves a reduction of dues must present their appeal to the Judicial Board at least **two weeks prior** to that term's due due. The Judicial Board shall hear the case and may modify the commitment of dues by that Brother, for that term. The Judicial Board shall not reduce any Brother's dues beneath the sum cost of the Triangle National Active Member Fee and Triangle Insurance Fee.\n",
    "\n",
    "The Judicial Board shall submit a report for each member granted a special status to the Vice President of the Chapter and the Chapter Treasurer. This report shall outline all waives and modifications to the commitments of the Brother granted a special status."
   ]
  },
  {
   "cell_type": "markdown",
   "metadata": {},
   "source": [
    "#### Proposals for Revokation of Triangle Membership\n",
    "\n",
    "A proposal for revokation of Triangle membership shall be made in instances where a Brother's membership is deemed to be against the cause, values, or integrity of our Chapter or the values of integrity of that Brother.\n",
    "\n",
    "A proposal for revokation of membership may be submitted to any member of the Judicial Board by any Brother.\n",
    "\n",
    "The Judicial Board shall convene to discuss all proposals for revokation of membership in a timely membe. The Judicial Board shall commit to due diligence in scheduling a convention time at which the Brother under proposal is able to attend.\n",
    "\n",
    "Any Brother under proposal of membership revokation may submit an appeal to the Judicial Board, either verbal or written, to have the proposal declined, and have the right to attend the Judicial Board convention on the proposal. \n",
    "\n",
    "A proposal for revokation of membership shall be approved only under the circumstances that the decision is passed to our Chapter's legislature by a **unanimous vote** of the Judicial Board, and passed by a **strong majority** of the Legislature of our Chapter excluding the Brother under proposal.\n",
    "\n",
    "If a proposal for revokation of membership is passed, the Brother's membership in our Chapter and the National Fraternity will be revoked and membership records removed."
   ]
  },
  {
   "cell_type": "markdown",
   "metadata": {},
   "source": [
    "#### Overturning of Judicial Decisions\n",
    "\n",
    "In the case that a Brother is dissatisfied with a decision made by the Judicial Board of our Chapter, he may exercise his right as a Brother of the Legislature to introduce a [Resolution](#) to overturn that decision."
   ]
  },
  {
   "cell_type": "markdown",
   "metadata": {},
   "source": [
    "### Academic Counsel\n",
    "\n",
    "[TODO: Academic Counsel]"
   ]
  },
  {
   "cell_type": "markdown",
   "metadata": {},
   "source": [
    "# Chapter Resolutions"
   ]
  },
  {
   "cell_type": "markdown",
   "metadata": {},
   "source": [
    "## Meetings"
   ]
  },
  {
   "cell_type": "markdown",
   "metadata": {},
   "source": [
    "Our Chapter shall resolve to keep the duration of the Overview of a Chapter Meeting to less than **ten** minutes. The President of our Chapter shall execute this Resolution."
   ]
  },
  {
   "cell_type": "markdown",
   "metadata": {},
   "source": [
    "Our Chapter shall resolve to keep the duration of standard Chapter Meetings to **one hour,** and expect prior notification if a Chapter Meeting is anticipated to require more than the standard alloted time. The President of our Chapter shall execute this Resolution."
   ]
  },
  {
   "cell_type": "markdown",
   "metadata": {},
   "source": [
    "The members of the Legislature of our Chapter shall resolve to define fulfillment of their commitment to regularly attend Chapter Meetings as attendance at **50%** of standard Chapter Meetings."
   ]
  },
  {
   "cell_type": "markdown",
   "metadata": {},
   "source": [
    "Our Chapter shall resolve to define a New Member's fulfillment of their commitment to r"
   ]
  },
  {
   "cell_type": "markdown",
   "metadata": {},
   "source": [
    "## Fines"
   ]
  },
  {
   "cell_type": "markdown",
   "metadata": {},
   "source": [
    "Our Chapter shall resolve to not permit a Brother with an outstanding and undismissed Fine to attend Chapter Formal."
   ]
  },
  {
   "cell_type": "markdown",
   "metadata": {},
   "source": [
    "Our Chapter shall resolve to require the approval of a **strong majority** of a quorum of the Legislature in order to establish new enumerated Fines."
   ]
  },
  {
   "cell_type": "markdown",
   "metadata": {},
   "source": [
    "Our Chapter shall resolve to establish a Late Payment Fine of **$40** for Brothers who do not promptly pay their term dues."
   ]
  },
  {
   "cell_type": "markdown",
   "metadata": {},
   "source": [
    "Our Chapter shall resolve to establish a Late Payment Fine of **$20** for Brothers who do not promptly pay their Formal dues."
   ]
  },
  {
   "cell_type": "markdown",
   "metadata": {},
   "source": [
    "## Dues"
   ]
  },
  {
   "cell_type": "markdown",
   "metadata": {},
   "source": [
    "The Brothers of our Chapter shall resolve to contribute dues of **$500** to our Chapter's funds each term."
   ]
  },
  {
   "cell_type": "markdown",
   "metadata": {},
   "source": [
    "Our Chapter shall resolve to require the approval of a **simple majority** of a quorum of the Legislature in order to modify dues, except in the case of an change **greater than ten percent** in magnitude, which shall require the approval of a **3/4 majority** of a quorum of the Legislature."
   ]
  },
  {
   "cell_type": "markdown",
   "metadata": {},
   "source": [
    "Our Chapter shall resolve to use the [Utah Triangle Prommisory Note](#) to establish payment plans for term dues between any Brother and our Chapter."
   ]
  },
  {
   "cell_type": "markdown",
   "metadata": {},
   "source": [
    "## Legislation"
   ]
  },
  {
   "cell_type": "markdown",
   "metadata": {},
   "source": [
    "Our Chapter shall resolve to require that Amendments to our Constitution shall require the submission of a [Utah Triangle Amendment Form](#) to the Executive Board by a Brother of our Chapter."
   ]
  },
  {
   "cell_type": "markdown",
   "metadata": {},
   "source": [
    "Our Chapter shall resolve to allocate time prior to an Amendment discussion for the filing Brother of the Amendment to speak briefly and field questions from the Legislature."
   ]
  },
  {
   "cell_type": "markdown",
   "metadata": {},
   "source": [
    "## Risk"
   ]
  },
  {
   "cell_type": "markdown",
   "metadata": {},
   "source": [
    "Our Chapter shall resolve to minimize the risk of our Chapter's operations by diligently following our [Chapter Risk Management Policy](#) and all guidance put forth by the National Fraternity and the University of Utah's Fraternity & Sorority Life. The Vice President of the Chapter shall be the  custodian and primary executor of this policy."
   ]
  },
  {
   "cell_type": "code",
   "execution_count": null,
   "metadata": {},
   "outputs": [],
   "source": []
  }
 ],
 "metadata": {
  "kernelspec": {
   "display_name": "Python 3",
   "language": "python",
   "name": "python3"
  },
  "language_info": {
   "codemirror_mode": {
    "name": "ipython",
    "version": 3
   },
   "file_extension": ".py",
   "mimetype": "text/x-python",
   "name": "python",
   "nbconvert_exporter": "python",
   "pygments_lexer": "ipython3",
   "version": "3.7.6"
  }
 },
 "nbformat": 4,
 "nbformat_minor": 4
}
