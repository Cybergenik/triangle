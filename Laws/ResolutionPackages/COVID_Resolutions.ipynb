{
 "cells": [
  {
   "cell_type": "markdown",
   "metadata": {},
   "source": [
    "# COVID Resolutions"
   ]
  },
  {
   "cell_type": "markdown",
   "metadata": {},
   "source": [
    "In response to the 2020 COVID-19 pandemic, our Chapter resolves to continue operations within the recommendations of campus and local authorities. The Executive Board shall execute this Resolution by following [the Chapter Response Plan](#) presented to our Chapter and ratified by a **strong majority** of our Chapter's Legislature."
   ]
  },
  {
   "cell_type": "markdown",
   "metadata": {},
   "source": [
    "In response to the 2020 COVID-19 pandemic, each Brother of our Chapter resolves that our Chapter's Cause holds the same importance to our Chapter and community. Our Chapter resolves to, in any capacity possible, continue our mission to develop balanced men who cultivate high moral character, foster lifelong friendships, and live lives of integrity."
   ]
  },
  {
   "cell_type": "markdown",
   "metadata": {},
   "source": [
    "In response to the 2020 COVID-19 pandemic, each Brother of our Chapter resolves to continue his commitment to rigorous study, a creditable scholastic record, and the pursuance of excellence within his field of study during this time. Our Chapter and Academic Counsel resolves to encourage each Brother to continue his studies during this period. If a Brother does choose to take a leave of absence from his studies at the University, he resolves to adhere to our Chapter's [Academic Improvement Plan](#) during the first term of his return to his studies."
   ]
  },
  {
   "cell_type": "markdown",
   "metadata": {},
   "source": [
    "In response to the 2020 COVID-19 pandemic, our Chapter resolves to continue our routine Chapter Meetings. Our Chapter shall also resolve that the [fulfillment of any Brother's commitment to regularly attend Chapter Meetings](#) may be satisifed by digital attendance. The Brother Secretary of our Chapter shall ensure there is infrastructure available for brothers to digitally attend Chapter Meetings. In the case that a Brother chooses to physically attend a Chapter Meeting, he resolves to adhere strictly to our [Chapter's Response Plan](#) guidelines regarding physical meetings. Our Chapter's Sergeant at Arms shall execute these guidelines."
   ]
  },
  {
   "cell_type": "markdown",
   "metadata": {},
   "source": [
    "In response to the 2020 COVID-19 pandemic, our Chapter resolves to consider any Brother's commitment to being an active and regular participant in Chapter events fulfilled in the case that Brother feels it is in the best interest of themselves and others that they do not physically attend a physically-held event. The Brother resolves to notify our Chapter's Vice President of any absence under these circumstances. This resolution shall apply to all our Chapter's physically-held events, including Initiation."
   ]
  },
  {
   "cell_type": "markdown",
   "metadata": {},
   "source": [
    "In response to the 2020 COVID-19 pandemic, our Chapter resolves that leaves of absence and significant financial struggles are reasonable circumstances for any Brother to seek a [special status](#) to his membership in our Chapter. Any Brother undergoing these circumstances shall still require an approval from the Judicial Board of our Chapter for his special status."
   ]
  },
  {
   "cell_type": "markdown",
   "metadata": {},
   "source": [
    "Our Chapter resolves that any Resolution made in response to the 2020 COVID-19 pandemic shall naturally expire and be removed from our Chapter's set of Resolutions at the conclusion of the pandemic as judged by a **strong majority** of our Chapter. At the beginning of each term during the pandemic, our Chapter resolves to revisit every Resolution made in response to the 2020 COVID-19 pandemic and adjust them by a **simple majority** as necessary."
   ]
  }
 ],
 "metadata": {
  "kernelspec": {
   "display_name": "Python 3",
   "language": "python",
   "name": "python3"
  },
  "language_info": {
   "codemirror_mode": {
    "name": "ipython",
    "version": 3
   },
   "file_extension": ".py",
   "mimetype": "text/x-python",
   "name": "python",
   "nbconvert_exporter": "python",
   "pygments_lexer": "ipython3",
   "version": "3.7.6"
  }
 },
 "nbformat": 4,
 "nbformat_minor": 4
}
